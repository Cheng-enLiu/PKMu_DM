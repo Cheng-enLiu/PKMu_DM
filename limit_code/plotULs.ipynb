{
 "cells": [
  {
   "cell_type": "code",
   "execution_count": 1,
   "id": "82de38fc",
   "metadata": {},
   "outputs": [
    {
     "name": "stdout",
     "output_type": "stream",
     "text": [
      "Welcome to JupyROOT 6.28/02\n"
     ]
    }
   ],
   "source": [
    "import pyhf\n",
    "import numpy as np\n",
    "import matplotlib.pyplot as plt\n",
    "from pyhf.contrib.viz import brazil\n",
    "import math\n",
    "\n",
    "import ROOT\n",
    "from ROOT import TGraph,TCanvas,TLegend,TGraphErrors"
   ]
  },
  {
   "cell_type": "code",
   "execution_count": 2,
   "id": "ebe500b0",
   "metadata": {},
   "outputs": [],
   "source": [
    "def plotUpperLimits(values,limits,medianobs_error,XaxisTitle,YaxisTitle,outfigure,theoryprediction = None,logy=False,logx=False):\n",
    "    # see CMS plot guidelines: https://ghm.web.cern.ch/ghm/plots/\n",
    " \n",
    "    N = len(values)\n",
    "    yellow = TGraph(2*N)    # yellow band\n",
    "    green = TGraph(2*N)     # green band\n",
    "    median = TGraph(N)      # median line\n",
    "    medianobs = TGraph(N)\n",
    "    if theoryprediction:\n",
    "        theory = TGraph(N)      # theory line\n",
    " \n",
    "    up2s = [ ]\n",
    "    dn2s = [ ]\n",
    "    for i in range(N):\n",
    "        limit = limits[i]\n",
    "        up2s.append(limit[4])\n",
    "        dn2s.append(limit[0])\n",
    "        yellow.SetPoint(    i,    values[i], limit[4] ) # + 2 sigma\n",
    "        green.SetPoint(     i,    values[i], limit[3] ) # + 1 sigma\n",
    "        median.SetPoint(    i,    values[i], limit[2] ) # median\n",
    "        medianobs.SetPoint(    i,    values[i], limit[5] ) # medianobs\n",
    "        if theoryprediction:\n",
    "            theory.SetPoint(    i,    values[i], theoryprediction[i] ) # median\n",
    "        green.SetPoint(  2*N-1-i, values[i], limit[1] ) # - 1 sigma\n",
    "        yellow.SetPoint( 2*N-1-i, values[i], limit[0] ) # - 2 sigma\n",
    " \n",
    "    # Create a TGraphErrors for medianobs with errors\n",
    "    if medianobs_error is not None:\n",
    "        medianobs_errors = TGraphErrors(N)\n",
    "        for i in range(N):\n",
    "            medianobs_errors.SetPoint(i, values[i], medianobs.GetY()[i])\n",
    "            medianobs_errors.SetPointError(i,0, medianobs_error[i])  # Set vertical error for each point\n",
    "\n",
    "    W = 800\n",
    "    H  = 800\n",
    "    T = 0.08*H\n",
    "    B = 0.12*H\n",
    "    L = 0.16*W\n",
    "    R = 0.04*W\n",
    "    c = TCanvas(\"c\",\"c\",100,100,W,H)\n",
    "    c.SetFillColor(0)\n",
    "    c.SetBorderMode(0)\n",
    "    c.SetFrameFillStyle(0)\n",
    "    c.SetFrameBorderMode(0)\n",
    "    c.SetLeftMargin( L/W )\n",
    "    c.SetRightMargin( R/W )\n",
    "    c.SetTopMargin( T/H )\n",
    "    c.SetBottomMargin( B/H )\n",
    "    c.SetTickx(0)\n",
    "    c.SetTicky(0)\n",
    "    c.SetGrid()\n",
    "    if logy:\n",
    "        c.SetLogy()\n",
    "    if logx:\n",
    "        c.SetLogx()\n",
    "    c.cd()\n",
    "    \n",
    "    frame = c.DrawFrame(min(values)*0.8,min(dn2s)*0.001, max(values)*2, max(up2s)*10)\n",
    "    frame.GetYaxis().CenterTitle()\n",
    "    frame.GetYaxis().SetTitleSize(0.05)\n",
    "    frame.GetXaxis().SetTitleSize(0.05)\n",
    "    frame.GetXaxis().SetLabelSize(0.03)\n",
    "    frame.GetYaxis().SetLabelSize(0.03)\n",
    "    frame.GetYaxis().SetTitleOffset(1.5)\n",
    "    frame.GetXaxis().SetNdivisions(508)\n",
    "    frame.GetYaxis().CenterTitle(True)\n",
    "    frame.GetYaxis().SetTitle(YaxisTitle)\n",
    "#    frame.GetYaxis().SetTitle(\"95% upper limit on #sigma #times BR / (#sigma #times BR)_{SM}\")\n",
    "    frame.GetXaxis().SetTitle(XaxisTitle)\n",
    "    if logy:\n",
    "        frame.SetMinimum(min(dn2s)*0.1)\n",
    "        frame.SetMaximum(max(up2s)*10)\n",
    "    else:\n",
    "        frame.SetMinimum(0)\n",
    "        frame.SetMaximum(max(up2s)*1.2)\n",
    "    frame.GetXaxis().SetLimits(min(values),max(values))\n",
    " \n",
    "    yellow.SetFillColor(ROOT.kOrange)\n",
    "    yellow.SetLineColor(ROOT.kOrange)\n",
    "    yellow.SetFillStyle(1001)\n",
    "    yellow.Draw('F')\n",
    " \n",
    "    green.SetFillColor(ROOT.kGreen+1)\n",
    "    green.SetLineColor(ROOT.kGreen+1)\n",
    "    green.SetFillStyle(1001)\n",
    "    green.Draw('Fsame')\n",
    "\n",
    "    medianobs.SetLineColor(1)\n",
    "    medianobs.SetLineWidth(4)\n",
    "    medianobs.SetLineStyle(1)\n",
    "    medianobs.Draw('Lsame')\n",
    " \n",
    "    median.SetLineColor(2)\n",
    "    median.SetLineWidth(3)\n",
    "    median.SetLineStyle(2)\n",
    "    median.Draw('Lsame')\n",
    "\n",
    "    if theoryprediction:\n",
    "        theory.SetLineColor(2)\n",
    "        theory.SetLineWidth(6)\n",
    "        theory.SetLineStyle(1)\n",
    "        theory.Draw('Lsame')\n",
    " \n",
    "    # Draw the medianobs error bars (cross-shaped, with size proportional to errors)\n",
    "    if medianobs_error is not None:\n",
    "        medianobs_errors = TGraphErrors(N)\n",
    "        for i in range(N):\n",
    "            medianobs_errors.SetPoint(i, values[i], medianobs.GetY()[i])\n",
    "            # 设置误差：X方向误差=0（不需要），Y方向误差=medianobs_error[i]\n",
    "            medianobs_errors.SetPointError(i, 0, medianobs_error[i])\n",
    "\n",
    "        # 设置十字形误差棒样式\n",
    "        medianobs_errors.SetMarkerStyle(20)          # 中心点样式（实心圆）\n",
    "        medianobs_errors.SetMarkerColor(ROOT.kBlack)   # 中心点颜色\n",
    "        medianobs_errors.SetLineColor(ROOT.kBlack)     # 误差棒颜色\n",
    "        medianobs_errors.SetLineWidth(3)             # 误差棒线宽\n",
    "        medianobs_errors.SetMarkerSize(0)            # 隐藏中心点（仅显示十字）\n",
    "        medianobs_errors.Draw(\"PE same\")             # \"PE\"表示点+误差棒\n",
    "    print(\"Debug: errors:\", [medianobs_error[i] for i in range(N)])\n",
    "\n",
    "#     CMS_lumi.CMS_lumi(c,14,11)\n",
    "    ROOT.gPad.SetTicks(1,1)\n",
    "    frame.Draw('sameaxis')\n",
    " \n",
    "    x1 = 0.1\n",
    "    x2 = 0.3\n",
    "    y2 = 0.9\n",
    "    y1 = 0.7\n",
    "    legend = TLegend(0.2,0.7,0.5,0.9)\n",
    "    legend.SetFillStyle(0)\n",
    "    legend.SetBorderSize(0)\n",
    "    legend.SetTextSize(0.03)\n",
    "    legend.SetTextFont(42)\n",
    "    legend.AddEntry(median, \"Asymptotic CL_{s} expected\",'L')\n",
    "    legend.AddEntry(medianobs, \"Asymptotic CL_{s} observed\",'lep')\n",
    "    legend.AddEntry(green, \"#pm 1 std. deviation\",'f')\n",
    "#    legend.AddEntry(green, \"Asymptotic CL_{s} #pm 1 std. deviation\",'f')\n",
    "    legend.AddEntry(yellow,\"#pm 2 std. deviation\",'f')\n",
    "    if theoryprediction:\n",
    "        legend.AddEntry(theory, \"theory prediciotn\",'L')\n",
    "#    legend.AddEntry(green, \"Asymptotic CL_{s} #pm 2 std. deviation\",'f')\n",
    "    legend.Draw()\n",
    "    \n",
    "    c.Update()\n",
    "    c.Print(outfigure)\n",
    " \n",
    "    Graphs = [yellow,median,green,]\n",
    "    if theoryprediction:\n",
    "        Graphs = [yellow,median,green,theory,legend]\n",
    "\n",
    "    return c,Graphs\n"
   ]
  },
  {
   "cell_type": "code",
   "execution_count": 3,
   "id": "7fefc392",
   "metadata": {},
   "outputs": [],
   "source": [
    "limits_const_air_obs=[]\n",
    "limits_error=[]\n",
    "#MDM=[0.001,0.01,0.1,1,10,100,1000,10000,100000]\n",
    "#DMmass=['0p001','0p01','0p1','1','10','100','1000','10000','100000']\n",
    "#MDM=[0.01,0.1,1,10,100]\n",
    "#DMmass=['0p01','0p1','1','10','100']\n",
    "MDM=[0.01,0.05,0.1,0.5,1,5,10,50,100]\n",
    "DMmass=['0p01','0p05','0p1','0p5','1','5','10','50','100']\n",
    "\n",
    "#const_air\n",
    "for iDMmass in DMmass:\n",
    "    flimits = ROOT.TFile.Open(\"UL_const_air_obs/higgsCombine\" + \"const_\" + iDMmass + \"_air_obs\" + \".AsymptoticLimits.mH120.root\")\n",
    "    tlimits = flimits.Get(\"limit\")\n",
    "    limitsnow=[]\n",
    "    \n",
    "    nEvents = tlimits.GetEntries()\n",
    "    for i in range(nEvents):\n",
    "        tlimits.GetEntry(i)\n",
    "        limitsnow.append(tlimits.limit)\n",
    "        if i == 5:\n",
    "            limits_error.append(tlimits.limitErr)\n",
    "    \n",
    "    limits_const_air_obs.append(limitsnow)\n",
    "    flimits.Close()\n",
    "\n",
    "    \n",
    "\n",
    "nsigHist_const=[]\n",
    "fHist = ROOT.TFile.Open(\"./Hist.root\")\n",
    "for iDMmass in DMmass:\n",
    "    Hist = fHist.Get(\"h_const_\"+iDMmass)\n",
    "    nsigHist_const.append(Hist.Integral())\n",
    "#nbkgHist_air=fHist.Get(\"h_air\").Integral()\n",
    "nbkgHist_obs=fHist.Get(\"h_obs\").Integral()"
   ]
  },
  {
   "cell_type": "code",
   "execution_count": 4,
   "id": "f635b0f4",
   "metadata": {},
   "outputs": [
    {
     "name": "stdout",
     "output_type": "stream",
     "text": [
      "[2.4348861353558847e-20, 1.1411158000363266e-19, 1.7975087757538554e-19, 6.48805041421195e-19, 1.032563231114611e-18, 8.624324483496841e-18, 1.463041177352381e-17, 1.2780845786438844e-16, 1.6329551748597517e-16]\n",
      "[1.2975959986515272e-17, 1.7310095172228596e-17, 2.4071346061941378e-17, 3.347438815669735e-17, 4.4646496712025926e-17, 1.8155521230796554e-17]\n"
     ]
    }
   ],
   "source": [
    "#Dark Matter\n",
    "rhoDM=0.3#GeV/cm^3\n",
    "Vbox=22*22*22#cm^3\n",
    "A = 22*22#cm^2\n",
    "\n",
    "NDM=[]\n",
    "for m in MDM:\n",
    "    NDM.append(m*A/rhoDM/Vbox)\n",
    "    \n",
    "#signal\n",
    "#Nsig/eff=NDM*I*sigma*T\n",
    "epsilon=[0.6672, 0.6709, 0.6712, 0.6916, 0.6723, 0.6382, 0.6382, 0.6380, 0.6267]\n",
    "epsilon_sigma=[0.0130, 0.0134, 0.0131, 0.0131, 0.0132, 0.0131, 0.0123, 0.0125, 0.0125]\n",
    "\n",
    "#epsilon=[0.4302, 0.4307, 0.4330, 0.4456, 0.4260, 0.4007, 0.4325, 0.4391, 0.4002]\n",
    "#epsilon_sigma=[0.0057, 0.0058, 0.0058, 0.0059, 0.0057, 0.0056, 0.0057, 0.0059, 0.0055]\n",
    "\n",
    "#epsilon=[0.2980, 0.2974, 0.2979, 0.3025, 0.2959, 0.2800, 0.2964, 0.2990, 0.2846]\n",
    "#epsilon_sigma=[0.0028, 0.0028, 0.0028, 0.0029, 0.0028, 0.0028, 0.0028, 0.0028, 0.0028]\n",
    "\n",
    "#epsilon=[0.3730, 0.3744, 0.3778, 0.3828, 0.3722, 0.3605, 0.3724, 0.3774, 0.3600]\n",
    "#epsilon_sigma=[0.0037, 0.0038, 0.0039, 0.0039, 0.0038, 0.0038, 0.0038, 0.0038, 0.0037]\n",
    "\n",
    "#epsilon=[0.3907, 0.3833, 0.3940, 0.3960, 0.3851, 0.3714, 0.3904, 0.3926, 0.3760]\n",
    "#epsilon_sigma=[0.0041, 0.0041, 0.0043, 0.0042, 0.0042, 0.0041, 0.0042, 0.0042, 0.0041]\n",
    "\n",
    "eff = 0.7132\n",
    "eff_sigma = 0.0257\n",
    "#for i in range(len(nsigHist_const)):\n",
    "#    eff=0.75*0.75*0.75*0.75\n",
    "    \n",
    "#    eff_const.append(eff)\n",
    "\n",
    "    \n",
    "\n",
    "I=1/60. # s^-1 cm^-2\n",
    "T=5380240 #s ≈ 63d\n",
    "#eff_obs=147251./2286807.\n",
    "fE = 10e-15\n",
    "\n",
    "sigmalimits_const_air=[]\n",
    "sigmalimits_const_air_error=[]\n",
    "sigmalimits_const_vac=[]\n",
    "sigmalimits_maxwell_air=[]\n",
    "sigmalimits_maxwell_vac=[]\n",
    "\n",
    "#const_air\n",
    "for iDM in range(len(DMmass)):\n",
    "    limitsnow=[]\n",
    "    limits_errornow=[]\n",
    "    for iCL in range(6):\n",
    "        if iCL <= 4:\n",
    "            limitsnow.append(NDM[iDM] * nsigHist_const[iDM] / nbkgHist_obs / epsilon[iDM] * limits_const_air_obs[iDM][iCL] * fE)\n",
    "        if iCL == 5:\n",
    "            limitsnow.append(NDM[iDM] * nsigHist_const[iDM] / nbkgHist_obs / epsilon[iDM] / eff * limits_const_air_obs[iDM][iCL] * fE)\n",
    "            limits_errornow.append((((NDM[iDM] / nbkgHist_obs / epsilon[iDM] /eff * limits_const_air_obs[iDM][iCL] * fE * ((nsigHist_const[iDM])**(0.5)))**(2)) + (NDM[iDM] * nsigHist_const[iDM] / epsilon[iDM] / eff * limits_const_air_obs[iDM][iCL] * fE * ((nbkgHist_obs)**(-2)) * ((nbkgHist_obs)**(0.5)))**(2) + (NDM[iDM] * nsigHist_const[iDM] / nbkgHist_obs / eff * limits_const_air_obs[iDM][iCL] * fE * ((epsilon[iDM])**(-2)) * epsilon_sigma[iDM])**(2)+ (NDM[iDM] * nsigHist_const[iDM] / nbkgHist_obs / epsilon[iDM] * limits_const_air_obs[iDM][iCL] * fE * ((eff)**(-2)) * eff_sigma)**(2) + (NDM[iDM] * nsigHist_const[iDM] / nbkgHist_obs / epsilon[iDM] / eff * fE * limits_error[iDM])**(2))**(0.5))\n",
    "            #limits_errornow.append(((NDM[iDM] / nbkgHist_obs / epsilon[iDM] / eff * limits_const_air_obs[iDM][iCL] * fE * ((nsigHist_const[iDM])**(0.5)))**(2)) + (NDM[iDM] * nsigHist_const[iDM] / epsilon[iDM] / eff * limits_const_air_obs[iDM][iCL] * fE * ((nbkgHist_obs)**(-2)) * ((nbkgHist_obs)**(0.5)))**(2) + (NDM[iDM] * nsigHist_const[iDM] / nbkgHist_obs / eff * limits_const_air_obs[iDM][iCL] * fE * ((epsilon[iDM])**(-2)) * epsilon_sigma[iDM])**(2) + (NDM[iDM] * nsigHist_const[iDM] / nbkgHist_obs / epsilon[iDM] * limits_const_air_obs[iDM][iCL] * fE * ((eff)**(-2)) * eff_sigma)**(2))\n",
    "    sigmalimits_const_air.append(limitsnow)\n",
    "    sigmalimits_const_air_error.append(limits_errornow[0])\n",
    "\n",
    "print(sigmalimits_const_air_error)\n",
    "print(sigmalimits_const_air[4])\n",
    "    "
   ]
  },
  {
   "cell_type": "code",
   "execution_count": 5,
   "id": "44c94e82",
   "metadata": {},
   "outputs": [
    {
     "name": "stdout",
     "output_type": "stream",
     "text": [
      "Debug: errors: [2.4348861353558847e-20, 1.1411158000363266e-19, 1.7975087757538554e-19, 6.48805041421195e-19, 1.032563231114611e-18, 8.624324483496841e-18, 1.463041177352381e-17, 1.2780845786438844e-16, 1.6329551748597517e-16]\n"
     ]
    },
    {
     "name": "stderr",
     "output_type": "stream",
     "text": [
      "Info in <TCanvas::Print>: eps file figure/UL_const_air_obs.eps has been created\n"
     ]
    }
   ],
   "source": [
    "can,_ = plotUpperLimits(MDM,sigmalimits_const_air,sigmalimits_const_air_error,\"#it{M}_{DM} (GeV)\",\"95% upper limit on #it{#sigma}_{#mu,DM} / #it{f}_{E} (cm^{2})\",\"figure/UL_const_air_obs.eps\",logy=True,logx=True)"
   ]
  },
  {
   "cell_type": "code",
   "execution_count": 6,
   "id": "de826474",
   "metadata": {},
   "outputs": [
    {
     "data": {
      "text/plain": [
       "[0.0015151515151515152,\n",
       " 0.007575757575757578,\n",
       " 0.015151515151515155,\n",
       " 0.07575757575757576,\n",
       " 0.15151515151515152,\n",
       " 0.7575757575757576,\n",
       " 1.5151515151515151,\n",
       " 7.575757575757576,\n",
       " 15.151515151515152]"
      ]
     },
     "execution_count": 6,
     "metadata": {},
     "output_type": "execute_result"
    }
   ],
   "source": [
    "NDM"
   ]
  },
  {
   "cell_type": "code",
   "execution_count": 7,
   "id": "61d3a53f",
   "metadata": {},
   "outputs": [
    {
     "data": {
      "text/plain": [
       "[1898.2605411410332,\n",
       " 2001.009264945984,\n",
       " 1527.2448601722717,\n",
       " 1037.1694993972778,\n",
       " 660.4569473266602,\n",
       " 418.787249982357,\n",
       " 274.17863619327545,\n",
       " 275.1957746744156,\n",
       " 183.49679589271545]"
      ]
     },
     "execution_count": 7,
     "metadata": {},
     "output_type": "execute_result"
    }
   ],
   "source": [
    "nsigHist_const"
   ]
  },
  {
   "cell_type": "code",
   "execution_count": 8,
   "id": "fd3fd90f",
   "metadata": {},
   "outputs": [
    {
     "data": {
      "text/plain": [
       "33937.0"
      ]
     },
     "execution_count": 8,
     "metadata": {},
     "output_type": "execute_result"
    }
   ],
   "source": [
    "nbkgHist_obs"
   ]
  },
  {
   "cell_type": "code",
   "execution_count": 9,
   "id": "eed21613",
   "metadata": {},
   "outputs": [
    {
     "data": {
      "text/plain": [
       "[0.6672, 0.6709, 0.6712, 0.6916, 0.6723, 0.6382, 0.6382, 0.638, 0.6267]"
      ]
     },
     "execution_count": 9,
     "metadata": {},
     "output_type": "execute_result"
    }
   ],
   "source": [
    "epsilon"
   ]
  },
  {
   "cell_type": "code",
   "execution_count": 10,
   "id": "9d466d9f",
   "metadata": {},
   "outputs": [
    {
     "data": {
      "text/plain": [
       "0.2882769218463271"
      ]
     },
     "execution_count": 10,
     "metadata": {},
     "output_type": "execute_result"
    }
   ],
   "source": [
    "limits_const_air_obs[0][5]"
   ]
  },
  {
   "cell_type": "code",
   "execution_count": 11,
   "id": "b961b08a",
   "metadata": {},
   "outputs": [
    {
     "data": {
      "text/plain": [
       "[0.013, 0.0134, 0.0131, 0.0131, 0.0132, 0.0131, 0.0123, 0.0125, 0.0125]"
      ]
     },
     "execution_count": 11,
     "metadata": {},
     "output_type": "execute_result"
    }
   ],
   "source": [
    "epsilon_sigma"
   ]
  },
  {
   "cell_type": "code",
   "execution_count": 12,
   "id": "ed0f4f95",
   "metadata": {},
   "outputs": [
    {
     "data": {
      "text/plain": [
       "[0.0011022335745550782,\n",
       " 0.0008363572296409827,\n",
       " 0.0008458316235576413,\n",
       " 0.0008156539329538248,\n",
       " 0.0007806995808516959,\n",
       " 0.002868662228718788,\n",
       " 0.003284268322807704,\n",
       " 0.0046253506922989684,\n",
       " 0.0032908906906978785]"
      ]
     },
     "execution_count": 12,
     "metadata": {},
     "output_type": "execute_result"
    }
   ],
   "source": [
    "limits_error"
   ]
  },
  {
   "cell_type": "code",
   "execution_count": 13,
   "id": "e62242f1",
   "metadata": {},
   "outputs": [],
   "source": [
    "#eff_maxwell"
   ]
  },
  {
   "cell_type": "code",
   "execution_count": null,
   "id": "2309c1bb",
   "metadata": {},
   "outputs": [],
   "source": []
  }
 ],
 "metadata": {
  "kernelspec": {
   "display_name": "Python 3",
   "language": "python",
   "name": "python3"
  },
  "language_info": {
   "codemirror_mode": {
    "name": "ipython",
    "version": 3
   },
   "file_extension": ".py",
   "mimetype": "text/x-python",
   "name": "python",
   "nbconvert_exporter": "python",
   "pygments_lexer": "ipython3",
   "version": "3.10.12"
  },
  "toc": {
   "base_numbering": 1,
   "nav_menu": {},
   "number_sections": true,
   "sideBar": true,
   "skip_h1_title": false,
   "title_cell": "Table of Contents",
   "title_sidebar": "Contents",
   "toc_cell": false,
   "toc_position": {},
   "toc_section_display": true,
   "toc_window_display": false
  }
 },
 "nbformat": 4,
 "nbformat_minor": 5
}
